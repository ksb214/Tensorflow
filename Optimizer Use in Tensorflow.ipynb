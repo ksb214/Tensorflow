{
 "cells": [
  {
   "cell_type": "markdown",
   "metadata": {},
   "source": [
    "**Optimizer Use for a Simple Case**\n",
    "\n",
    "This is an example for finding minimum value for the quadratic function \n",
    "\n",
    "$$y = x^{2}-4x + 5$$\n",
    "\n",
    "Derivative of the function is $$2x-4$$ \n",
    "\n",
    "When derivative is set to zero, minimum value of function $$y=1$$ with $$x=2$$"
   ]
  },
  {
   "cell_type": "code",
   "execution_count": 94,
   "metadata": {},
   "outputs": [],
   "source": [
    "import tensorflow as tf"
   ]
  },
  {
   "cell_type": "code",
   "execution_count": 95,
   "metadata": {},
   "outputs": [],
   "source": [
    "learn_rate = 0.2\n",
    "num_steps = 200"
   ]
  },
  {
   "cell_type": "markdown",
   "metadata": {},
   "source": [
    "The optimization process serves to tune the parameters of some given model. For that purpose, TensorFlow uses special objects called Variables.\n",
    "\n",
    "Using Variables is done in two stages. \n",
    "\n",
    "First we call the tf.Variable() function in order to create a Variable and define what value it will be initialized with. \n",
    "\n",
    "We then have to explicitly perform an initialization operation by running the session with the tf.global_variables_initializer() method, which allocates the memory for the Variable and sets its initial values."
   ]
  },
  {
   "cell_type": "code",
   "execution_count": 96,
   "metadata": {},
   "outputs": [],
   "source": [
    "# Loss function\n",
    "x = tf.Variable(0.0)\n",
    "loss = tf.pow(x,2) - 4.0*x + 5.0 "
   ]
  },
  {
   "cell_type": "code",
   "execution_count": 97,
   "metadata": {},
   "outputs": [],
   "source": [
    "# Define optimizer\n",
    "optimizer = tf.train.AdagradOptimizer(learn_rate).minimize(loss)"
   ]
  },
  {
   "cell_type": "code",
   "execution_count": 98,
   "metadata": {},
   "outputs": [],
   "source": [
    "with tf.Session() as sess:\n",
    "    sess.run(tf.global_variables_initializer())\n",
    "    for _ in range(num_steps):\n",
    "        _, loss_val, x_val = sess.run([optimizer, loss, x])"
   ]
  },
  {
   "cell_type": "code",
   "execution_count": 99,
   "metadata": {},
   "outputs": [
    {
     "name": "stdout",
     "output_type": "stream",
     "text": [
      "INFO:tensorflow:x is 1.9977627992630005 and the loss is 1.0000052452087402\n"
     ]
    }
   ],
   "source": [
    "tf.logging.set_verbosity(tf.logging.INFO)\n",
    "str = 'x is {0} and the loss is {1}'.format(x_val, loss_val)\n",
    "tf.logging.info(str)"
   ]
  }
 ],
 "metadata": {
  "kernelspec": {
   "display_name": "Python 3",
   "language": "python",
   "name": "python3"
  },
  "language_info": {
   "codemirror_mode": {
    "name": "ipython",
    "version": 3
   },
   "file_extension": ".py",
   "mimetype": "text/x-python",
   "name": "python",
   "nbconvert_exporter": "python",
   "pygments_lexer": "ipython3",
   "version": "3.7.0"
  }
 },
 "nbformat": 4,
 "nbformat_minor": 2
}
